{
  "nbformat": 4,
  "nbformat_minor": 0,
  "metadata": {
    "colab": {
      "private_outputs": true,
      "provenance": [],
      "include_colab_link": true
    },
    "kernelspec": {
      "name": "python3",
      "display_name": "Python 3"
    },
    "language_info": {
      "name": "python"
    }
  },
  "cells": [
    {
      "cell_type": "markdown",
      "metadata": {
        "id": "view-in-github",
        "colab_type": "text"
      },
      "source": [
        "<a href=\"https://colab.research.google.com/github/jenny550/mit_futuremakers_create-a-thon_2023/blob/main/wildfires.ipynb\" target=\"_parent\"><img src=\"https://colab.research.google.com/assets/colab-badge.svg\" alt=\"Open In Colab\"/></a>"
      ]
    },
    {
      "cell_type": "markdown",
      "source": [
        "#Wildfire Image Detection"
      ],
      "metadata": {
        "id": "Zb7Nkk4uq3vC"
      }
    },
    {
      "cell_type": "code",
      "source": [
        "import tensorflow as tf\n",
        "from tensorflow import keras\n",
        "from keras.preprocessing.image import ImageDataGenerator\n",
        "from keras.preprocessing import image\n",
        "import matplotlib.pyplot as plt\n",
        "import pandas as pd\n",
        "import numpy as np\n",
        "import PIL\n",
        "from PIL import Image\n",
        "import os"
      ],
      "metadata": {
        "id": "OjN2p5YN6g23"
      },
      "execution_count": null,
      "outputs": []
    },
    {
      "cell_type": "markdown",
      "source": [
        "#Model Architecture"
      ],
      "metadata": {
        "id": "nEbIKq1X7NzW"
      }
    },
    {
      "cell_type": "code",
      "source": [
        "#history =  model.fit(X_train, y_train, batch_size=batch_size, epochs=epochs,\n",
        "                  #   validation_data = #Enter Code ,\n",
        "                    # verbose=1)"
      ],
      "metadata": {
        "id": "th4ef9jM82qm"
      },
      "execution_count": null,
      "outputs": []
    },
    {
      "cell_type": "code",
      "source": [
        "#loading images into arrays\n",
        "\n",
        "train_fire_arr = [np.array(Image.open(f'/content/training/fire/{x}')) for x in os.listdir('/content/training/fire')] #training fie imgs\n",
        "train_noFire_arr = [np.array(Image.open(f'/content/training/noFire/{x}')) for x in os.listdir('/content/training/noFire')] #training noFire imgs\n",
        "\n",
        "test_fire_arr = [np.array(Image.open(f'/content/testing/fire/{x}')) for x in os.listdir('/content/testing/fire')] #testing fire imgs\n",
        "test_noFire_arr = [np.array(Image.open(f'/content/testing/noFire/{x}')) for x in os.listdir('/content/testing/noFire')] #testing noFire imgs\n",
        "\n",
        "train = np.array(train_fire_arr + train_noFire_arr)\n",
        "print('train: fire length: ', len(train_fire_arr))\n",
        "print('train: noFire length: ', len(train_noFire_arr))\n",
        "print('train: fire + noFire length: ', len(train))\n",
        "\n",
        "test = np.array(test_fire_arr + test_noFire_arr)\n",
        "print('test: fire length: ', len(test_fire_arr))\n",
        "print('test: noFire length: ', len(test_noFire_arr))\n",
        "print('test: fire + noFire length: ', len(test))\n",
        "\n",
        "#print(train_fire_arr[0])\n",
        "#plt.imshow(train[1800])\n",
        "\n",
        "test[0].shape # each img is 250 x 250"
      ],
      "metadata": {
        "id": "bLydEHJ_iHv8"
      },
      "execution_count": null,
      "outputs": []
    },
    {
      "cell_type": "code",
      "source": [
        "# x_train = images of fires\n",
        "#labels = {0: no fire, 1.0: fire}\n",
        "#y_train = all labels of fire, hint: {1.0}\n",
        "\n",
        "x_train, y_train = train, np.concatenate((np.ones(len(train_fire_arr)), np.zeros(len(train_noFire_arr))), axis = 0)\n",
        "x_test, y_test = test, np.concatenate((np.ones(len(test_fire_arr)), np.zeros(len(test_noFire_arr))), axis = 0)\n",
        "idx = -1\n",
        "\n",
        "print(y_test[idx])\n",
        "plt.imshow(x_test[idx])"
      ],
      "metadata": {
        "id": "bEIzz5VMk43-"
      },
      "execution_count": null,
      "outputs": []
    },
    {
      "cell_type": "code",
      "source": [],
      "metadata": {
        "id": "508y_8S_vdRB"
      },
      "execution_count": null,
      "outputs": []
    },
    {
      "cell_type": "code",
      "source": [
        "#Copied from CNN Module just to get us started\n",
        "\n",
        "model = tf.keras.models.Sequential([\n",
        "  tf.keras.layers.Conv2D(32, (5, 5), activation='relu', input_shape=(250, 250, 3)),\n",
        " # tf.keras.layers.Dropout(0.1,input_shape = (None, 13, 13, 32)),\n",
        "  keras.layers.BatchNormalization(),\n",
        "  tf.keras.layers.MaxPooling2D(),\n",
        "  #tf.keras.layers.Conv2D(10, (25,25), activation='relu'),\n",
        "  tf.keras.layers.Dropout(0.1),\n",
        "  #tf.keras.layers.MaxPooling2D(2, 2),\n",
        "  keras.layers.Activation('relu'),\n",
        "  tf.keras.layers.Flatten(),\n",
        "  tf.keras.layers.Dense(128, activation='relu'),\n",
        "\n",
        "  tf.keras.layers.Dense(1, activation='softmax')\n",
        "])\n",
        "\n",
        "model.compile(optimizer='SGD', loss='categorical_crossentropy', metrics=['accuracy'])\n",
        "#model.summary()"
      ],
      "metadata": {
        "id": "IvxT1L7z7dSw"
      },
      "execution_count": null,
      "outputs": []
    },
    {
      "cell_type": "code",
      "source": [
        "#y_train.resize(1832, 1)\n",
        "#print(y_train[2])\n",
        "model.fit(x_train[0:100], y_train[0: 100], epochs = 10)"
      ],
      "metadata": {
        "id": "eyT1M9lSwnKW"
      },
      "execution_count": null,
      "outputs": []
    }
  ]
}