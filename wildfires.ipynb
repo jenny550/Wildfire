{
  "nbformat": 4,
  "nbformat_minor": 0,
  "metadata": {
    "colab": {
      "private_outputs": true,
      "provenance": [],
      "include_colab_link": true
    },
    "kernelspec": {
      "name": "python3",
      "display_name": "Python 3"
    },
    "language_info": {
      "name": "python"
    }
  },
  "cells": [
    {
      "cell_type": "markdown",
      "metadata": {
        "id": "view-in-github",
        "colab_type": "text"
      },
      "source": [
        "<a href=\"https://colab.research.google.com/github/jenny550/mit_futuremakers_create-a-thon_2023/blob/main/wildfires.ipynb\" target=\"_parent\"><img src=\"https://colab.research.google.com/assets/colab-badge.svg\" alt=\"Open In Colab\"/></a>"
      ]
    },
    {
      "cell_type": "markdown",
      "source": [
        "#Wildfire Image Detection"
      ],
      "metadata": {
        "id": "Zb7Nkk4uq3vC"
      }
    },
    {
      "cell_type": "code",
      "source": [
        "import tensorflow as tf\n",
        "from tensorflow import keras\n",
        "from keras.preprocessing.image import ImageDataGenerator\n",
        "from keras.preprocessing import image\n",
        "import matplotlib.pyplot as plt\n",
        "import pandas as pd\n",
        "import numpy as np\n",
        "import PIL\n",
        "from PIL import Image\n",
        "import os"
      ],
      "metadata": {
        "id": "OjN2p5YN6g23"
      },
      "execution_count": null,
      "outputs": []
    },
    {
      "cell_type": "markdown",
      "source": [
        "#Model Architecture"
      ],
      "metadata": {
        "id": "nEbIKq1X7NzW"
      }
    },
    {
      "cell_type": "code",
      "source": [
        "#history =  model.fit(X_train, y_train, batch_size=batch_size, epochs=epochs,\n",
        "                  #   validation_data = #Enter Code ,\n",
        "                    # verbose=1)"
      ],
      "metadata": {
        "id": "th4ef9jM82qm"
      },
      "execution_count": null,
      "outputs": []
    },
    {
      "cell_type": "code",
      "source": [
        "#loading images into arrays\n",
        "\n",
        "train_fire_arr = [np.array( Image.open(f'/content/training/fire/{x}').resize((128,128)) ) for x in os.listdir('/content/training/fire')] #training fie imgs\n",
        "train_noFire_arr = [np.array(Image.open(f'/content/training/noFire/{x}', mode='r').resize((128,128)) ) for x in os.listdir('/content/training/noFire')] #training noFire imgs\n",
        "\n",
        "test_fire_arr = [np.array(Image.open(f'/content/testing/fire/{x}', mode='r').resize((128,128)) ) for x in os.listdir('/content/testing/fire')] #testing fire imgs\n",
        "test_noFire_arr = [np.array(Image.open(f'/content/testing/noFire/{x}', mode='r').resize((128,128)) ) for x in os.listdir('/content/testing/noFire')] #testing noFire imgs\n",
        "\n",
        "train = np.array(train_fire_arr + train_noFire_arr)\n",
        "print('train: fire length: ', len(train_fire_arr))\n",
        "print('train: noFire length: ', len(train_noFire_arr))\n",
        "print('train: fire + noFire length: ', len(train))\n",
        "\n",
        "test = np.array(test_fire_arr + test_noFire_arr)\n",
        "print('test: fire length: ', len(test_fire_arr))\n",
        "print('test: noFire length: ', len(test_noFire_arr))\n",
        "print('test: fire + noFire length: ', len(test))\n",
        "\n",
        "#print(train_fire_arr[0])\n",
        "#plt.imshow(train[1800])\n",
        "\n",
        "test[0].shape # each img is 250 x 250"
      ],
      "metadata": {
        "id": "bLydEHJ_iHv8"
      },
      "execution_count": null,
      "outputs": []
    },
    {
      "cell_type": "code",
      "source": [
        "# x_train = images of fires\n",
        "#labels = {0: no fire, 1.0: fire}\n",
        "#y_train = all labels of fire, hint: {1.0}\n",
        "\n",
        "x_train, y_train = train, np.concatenate((np.ones(len(train_fire_arr)), np.zeros(len(train_noFire_arr))), axis = 0)\n",
        "x_test, y_test = test, np.concatenate((np.ones(len(test_fire_arr)), np.zeros(len(test_noFire_arr))), axis = 0)\n",
        "idx = -1\n",
        "\n",
        "x_train = x_train / 255.0\n",
        "x_test = x_test / 255.0\n",
        "\n",
        "print(y_train[idx])\n",
        "print(x_train[idx])\n",
        "plt.imshow(x_train[idx])"
      ],
      "metadata": {
        "id": "bEIzz5VMk43-"
      },
      "execution_count": null,
      "outputs": []
    },
    {
      "cell_type": "code",
      "source": [
        "!rm -rf `find -type d -name .ipynb_checkpoints`"
      ],
      "metadata": {
        "id": "ZiofOSNE7lCs"
      },
      "execution_count": null,
      "outputs": []
    },
    {
      "cell_type": "code",
      "source": [
        "train = ImageDataGenerator(rescale=1/255) # conguring training dataset frame, pixel / 255\n",
        "test = ImageDataGenerator(rescale=1/255) # conguring training dataset frame, pixel / 255\n",
        "\n",
        "train_dataset = train.flow_from_directory(\"/content/training\",\n",
        "                                          target_size=(128,128),\n",
        "                                          batch_size = 32,\n",
        "                                          class_mode='binary') # further configuring dataset frame, already loaded with image contents\n",
        "\n",
        "test_dataset = test.flow_from_directory(\"/content/testing\",\n",
        "                                          target_size=(128,128),\n",
        "                                          batch_size =32,\n",
        "                                          class_mode = 'binary')  # further configuring dataset frame, already loaded with image contents"
      ],
      "metadata": {
        "id": "508y_8S_vdRB"
      },
      "execution_count": null,
      "outputs": []
    },
    {
      "cell_type": "code",
      "source": [
        "train_dataset.class_indices #print out class indicies: 0 for {fire}, 1 for {no fire }"
      ],
      "metadata": {
        "id": "8L7pAJMkzTKG"
      },
      "execution_count": null,
      "outputs": []
    },
    {
      "cell_type": "code",
      "source": [],
      "metadata": {
        "id": "nf72VxOYGN41"
      },
      "execution_count": null,
      "outputs": []
    },
    {
      "cell_type": "code",
      "source": [
        "#Copied from CNN Module just to get us started\n",
        "model = keras.Sequential()\n",
        "model.add(keras.layers.Conv2D(32,(3,3),activation='relu',input_shape=(128,128,3)))\n",
        "model.add(keras.layers.MaxPool2D(2,2))\n",
        "model.add(keras.layers.Conv2D(64,(3,3),activation='relu'))\n",
        "model.add(keras.layers.MaxPool2D(2,2))\n",
        "model.add(keras.layers.Conv2D(128,(3,3),activation='relu'))\n",
        "model.add(keras.layers.MaxPool2D(2,2))\n",
        "model.add(keras.layers.Conv2D(128,(3,3),activation='relu'))\n",
        "model.add(keras.layers.MaxPool2D(2,2))\n",
        "model.add(keras.layers.Flatten())\n",
        "model.add(keras.layers.Dense(512,activation='relu'))\n",
        "model.add(keras.layers.Dense(1,activation='sigmoid'))\n",
        "\n",
        "#model.compile(optimizer='adam', loss='categorical_crossentropy', metrics=['accuracy'])\n",
        "model.compile(optimizer='adam',loss='binary_crossentropy',metrics=['accuracy'])\n",
        "#model.summary()"
      ],
      "metadata": {
        "id": "IvxT1L7z7dSw"
      },
      "execution_count": null,
      "outputs": []
    },
    {
      "cell_type": "code",
      "source": [
        "#y_train.resize(1832, 1)\n",
        "#print(y_train[2])\n",
        "model.fit(train_dataset, epochs = 10)"
      ],
      "metadata": {
        "id": "eyT1M9lSwnKW"
      },
      "execution_count": null,
      "outputs": []
    },
    {
      "cell_type": "code",
      "source": [
        "#predictions\n",
        "def predict(img):\n",
        "  plt.imshow(img)\n",
        "  X = np.expand_dims(img, axis = 0)\n",
        "  predVal = model.predict(X)\n",
        "  print(predVal)\n",
        "\n",
        "  if predVal == 1:\n",
        "    plt.xlabel('No Fire', fontsize = 34)\n",
        "  else:\n",
        "    plt.xlabel('Fire', fontsize = 34)"
      ],
      "metadata": {
        "id": "JqlcxJo0BjWE"
      },
      "execution_count": null,
      "outputs": []
    },
    {
      "cell_type": "code",
      "source": [],
      "metadata": {
        "id": "_FKqXpucJvjD"
      },
      "execution_count": null,
      "outputs": []
    },
    {
      "cell_type": "code",
      "source": [
        "#test_fire_arr\n",
        "#test_noFire_arr\n",
        "predict(test_noFire_arr[-15])"
      ],
      "metadata": {
        "id": "tQ7ImBR1Gf79"
      },
      "execution_count": null,
      "outputs": []
    },
    {
      "cell_type": "code",
      "source": [
        "#predict whole testing set\n",
        "predictions = np.round(model.predict(test_dataset))\n",
        "print(predictions)\n",
        "for img in test_dataset:\n",
        "  plt.imshow(img)"
      ],
      "metadata": {
        "id": "avmEcrbJKHzn"
      },
      "execution_count": null,
      "outputs": []
    }
  ]
}