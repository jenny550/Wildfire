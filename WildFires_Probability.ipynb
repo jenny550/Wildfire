{
  "nbformat": 4,
  "nbformat_minor": 0,
  "metadata": {
    "colab": {
      "private_outputs": true,
      "provenance": [],
      "authorship_tag": "ABX9TyMG2SRVs68Bfgs4AmhgMlrI",
      "include_colab_link": true
    },
    "kernelspec": {
      "name": "python3",
      "display_name": "Python 3"
    },
    "language_info": {
      "name": "python"
    }
  },
  "cells": [
    {
      "cell_type": "markdown",
      "metadata": {
        "id": "view-in-github",
        "colab_type": "text"
      },
      "source": [
        "<a href=\"https://colab.research.google.com/github/jenny550/mit_futuremakers_create-a-thon_2023/blob/main/WildFires_Probability.ipynb\" target=\"_parent\"><img src=\"https://colab.research.google.com/assets/colab-badge.svg\" alt=\"Open In Colab\"/></a>"
      ]
    },
    {
      "cell_type": "markdown",
      "source": [
        "# Wild Fires Probability"
      ],
      "metadata": {
        "id": "zEQM1xTDsPDS"
      }
    },
    {
      "cell_type": "markdown",
      "source": [
        "#**Probability calculations**\n",
        "\n",
        "Project Frame: DIMES-FIRST - real world probelm solving methood, by Dr. R Ravi (MIT)\n",
        "\n",
        "###**Factors(scale: 1-10)**\n",
        "\n",
        "* wind speed - 9\n",
        "* humidity - 9\n",
        "* droughts - 8\n",
        "* fuels(vegatation levels) - 9\n",
        "* topography(features of land) - 9\n",
        "* temperature(weather) - 6\n",
        "* lightning/storm(weather) - 7\n",
        "* rainfall(weather) - 7\n",
        "* volcanic eruptions - 4\n",
        "\n",
        "\n",
        "##Structure\n",
        "\n",
        "#: Predicting wildfires(forets fires) in advance for individuals, in mainly rurals areas, may be aware of the probability of the occurance. In addition, local authorities may also get notified\n",
        "###Describe: Wildfires occur at random instances, when certain conditionas are satisfied. Upon their occurance, they may go unsupervised / unoticed until it is too late and they is spreading too fast. In most occurances, fires are detected and handled, when they have covered a great surface area, making more difficult to put it - eventually harming nearby homes and wild life.\n",
        "###Inquire:\n",
        "  - Who: Individuals living near rural areas, wildlife in area.\n",
        "  - What: Safety, quality of life, air quality, homes.\n",
        "  - Where: Rural areas.\n",
        "  - When: Most common in Summer and Dry seasons like fall.\n",
        "  - Why: Environmental factors, and human causes.\n",
        "###Model:\n",
        "###Extract:  \n",
        "###State:  \n",
        "\n",
        "\n"
      ],
      "metadata": {
        "id": "MBGQVcysLMc6"
      }
    },
    {
      "cell_type": "code",
      "execution_count": null,
      "metadata": {
        "id": "3oJMe4_ssIFw"
      },
      "outputs": [],
      "source": []
    }
  ]
}