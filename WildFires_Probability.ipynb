{
  "nbformat": 4,
  "nbformat_minor": 0,
  "metadata": {
    "colab": {
      "private_outputs": true,
      "provenance": [],
      "authorship_tag": "ABX9TyNvnaD+9rXhttF8Ssj6WP38",
      "include_colab_link": true
    },
    "kernelspec": {
      "name": "python3",
      "display_name": "Python 3"
    },
    "language_info": {
      "name": "python"
    }
  },
  "cells": [
    {
      "cell_type": "markdown",
      "metadata": {
        "id": "view-in-github",
        "colab_type": "text"
      },
      "source": [
        "<a href=\"https://colab.research.google.com/github/jenny550/mit_futuremakers_create-a-thon_2023/blob/main/WildFires_Probability.ipynb\" target=\"_parent\"><img src=\"https://colab.research.google.com/assets/colab-badge.svg\" alt=\"Open In Colab\"/></a>"
      ]
    },
    {
      "cell_type": "markdown",
      "source": [
        "# Wild Fires Probability"
      ],
      "metadata": {
        "id": "zEQM1xTDsPDS"
      }
    },
    {
      "cell_type": "markdown",
      "source": [
        "#**Probability calculations**\n",
        "\n",
        "Project Frame: DIMES-FIRST - real world probelm solving methood, by Dr. R Ravi (MIT)\n",
        "\n",
        "###**Factors(scale: 1-10)**\n",
        "\n",
        "* wind speed - 9\n",
        "* humidity - 9\n",
        "* droughts - 8\n",
        "* fuels(vegatation levels) - 9\n",
        "* topography(features of land) - 9\n",
        "* temperature(weather) - 6\n",
        "* lightning/storm(weather) - 7\n",
        "* rainfall(weather) - 7\n",
        "* volcanic eruptions - 4\n",
        "\n",
        "\n",
        "##Structure\n",
        "\n",
        "#: Predicting wildfires(forets fires) in advance for individuals, in mainly rurals areas, may be aware of the probability of the occurance. In addition, local authorities may also get notified\n",
        "###Describe: Wildfires occur at random instances, when certain conditionas are satisfied. Upon their occurance, they may go unsupervised / unoticed until it is too late and they is spreading too fast. In most occurances, fires are detected and handled, when they have covered a great surface area, making more difficult to put it - eventually harming nearby homes and wild life.\n",
        "###Inquire:\n",
        "  - Who: Individuals living near rural areas, wildlife in area.\n",
        "  - What: Safety, quality of life, air quality, homes.\n",
        "  - Where: Rural areas.\n",
        "  - When: Most common in Summer and Dry seasons like fall.\n",
        "  - Why: Environmental factors, and human causes.\n",
        "###Model:\n",
        "###Extract:  \n",
        "###State:  \n",
        "\n",
        "\n"
      ],
      "metadata": {
        "id": "MBGQVcysLMc6"
      }
    },
    {
      "cell_type": "code",
      "source": [
        "from google.colab import drive\n",
        "import tensorflow as tf\n",
        "from tensorflow import keras\n",
        "import matplotlib.pyplot as plt\n",
        "import pandas as pd\n",
        "from PIL import Image\n",
        "import numpy as np\n",
        "import sklearn\n",
        "from sklearn.model_selection import train_test_split\n",
        "from sklearn.preprocessing import StandardScaler"
      ],
      "metadata": {
        "id": "HQqNTrTIT9OS"
      },
      "execution_count": null,
      "outputs": []
    },
    {
      "cell_type": "code",
      "execution_count": null,
      "metadata": {
        "id": "3oJMe4_ssIFw"
      },
      "outputs": [],
      "source": [
        "drive.mount('/content/gdrive')\n",
        "with open('/content/gdrive/My Drive/file.txt', 'w') as f:\n",
        "    f.write('content')"
      ]
    },
    {
      "cell_type": "code",
      "source": [
        "csv = pd.read_csv('/content/gdrive/MyDrive/WildFires_SureStart_Comp/forestfires.csv')\n",
        "df = pd.DataFrame(csv)\n",
        "df = df.drop(['X', 'Y', 'month', 'day'], axis = 1)\n",
        "leading_factors = df.drop('area', axis=1)\n",
        "areaDf = df\n",
        "for x in df.keys():\n",
        "  if x != 'area':\n",
        "    areaDf = areaDf.drop(x, axis = 1)\n",
        "\n",
        "print(leading_factors)\n",
        "print(areaDf)\n",
        "\n",
        "#FFMC = 'Fine Fuel Moisture Code', representing relative moisture content of litter and other fuels (nonspecific unit)\n",
        "#DMC = 'Duff Moisture Code', representing the moisture content rating of organic forest floor layers(unspecified unit)\n",
        "#DC = 'Drought Code', rating that represents the drying deep into the soil and organic layers in a forest(DC unit)\n",
        "#ISI = ' Initial Spread Index', expected rate of fire spread, right after ignition(unspecified unit)\n",
        "#RH = 'Relative Humidity', amount of moisture present in the air compared to the maximum amount of moisture the air could hold at a specific temperature."
      ],
      "metadata": {
        "id": "Pqkb66PFUX0e"
      },
      "execution_count": null,
      "outputs": []
    },
    {
      "cell_type": "code",
      "source": [
        "X = leading_factors[['RH', 'temp', 'wind', 'rain']].values\n",
        "Y = areaDf.values\n",
        "\n",
        "scaler = StandardScaler() # to scale values to even playing field\n",
        "X = scaler.fit_transform(X,Y)\n",
        "Y = scaler.fit_transform(Y, X)\n",
        "x_train, x_test, y_train, y_test = train_test_split(X, Y,test_size=(.5))\n",
        "\n",
        "\n",
        "timeSteps = len(x_train)  # Number of  (historical observations)\n",
        "n_features = x_train.shape[1]\n",
        "\n",
        "#x_train.resize((timeSteps, n_features))\n",
        "#x_test.resize((timeSteps, n_features))\n",
        "\n",
        "print(X[0])\n",
        "print(Y[0])\n",
        "print(x_train[0])"
      ],
      "metadata": {
        "id": "4WYpLpp6cuRS"
      },
      "execution_count": null,
      "outputs": []
    },
    {
      "cell_type": "code",
      "source": [
        "#using regression model to learn the proper formula, or method of calculations, to arrive at the right 'area' / output of 'area' burned, using leading factors\n",
        "model = keras.Sequential()\n",
        "model.add(keras.layers.Input(shape = (4,1)))\n",
        "model.add(keras.layers.LSTM(64, activation='relu'))\n",
        "model.add(keras.layers.Dense(1, activation = 'sigmoid'))\n",
        "\n",
        "model.compile(optimizer = 'adam', loss='binary_crossentropy', metrics = ['accuracy'])\n",
        "model.summary()"
      ],
      "metadata": {
        "id": "v5-jou9SXXXt"
      },
      "execution_count": null,
      "outputs": []
    },
    {
      "cell_type": "code",
      "source": [
        "fitted = model.fit(x_train, y_train, epochs= 10)"
      ],
      "metadata": {
        "id": "JncMnwq0cNFH"
      },
      "execution_count": null,
      "outputs": []
    },
    {
      "cell_type": "code",
      "source": [
        "#implementing linear =regression:\n",
        "from sklearn.linear_model import LinearRegression\n",
        "lnrModel = LinearRegression()\n",
        "linearFitted = lnrModel.fit(x_train, y_train)\n",
        "\n",
        "prediction = lnrModel.predict(x_test)\n",
        "\n",
        "prediction = prediction[:-1]\n",
        "\n",
        "#evaluating error:\n",
        "mse = sklearn.metrics.mean_squared_error(y_test, prediction)\n",
        "idx = 0\n",
        "print(prediction[idx])\n",
        "print(y_test[idx])\n",
        "print(mse)\n",
        "\n",
        "plt.plot(y_test, prediction)\n"
      ],
      "metadata": {
        "id": "Ban4ujPKk3P4"
      },
      "execution_count": null,
      "outputs": []
    }
  ]
}